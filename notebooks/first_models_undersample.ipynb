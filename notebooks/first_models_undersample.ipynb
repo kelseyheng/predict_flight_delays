{
 "cells": [
  {
   "cell_type": "code",
   "execution_count": 1,
   "metadata": {},
   "outputs": [],
   "source": [
    "import pandas as pd\n",
    "import numpy as np\n",
    "import pickle\n",
    "import matplotlib.pyplot as plt\n",
    "import seaborn as sns\n",
    "import random\n",
    "\n",
    "from sklearn.model_selection import train_test_split, KFold, GridSearchCV, RandomizedSearchCV\n",
    "from sklearn.linear_model import LinearRegression, Ridge, LogisticRegression\n",
    "from sklearn.preprocessing import StandardScaler, PolynomialFeatures\n",
    "\n",
    "from sklearn.neighbors import KNeighborsClassifier\n",
    "from sklearn.metrics import precision_score, recall_score, precision_recall_curve,f1_score, fbeta_score, confusion_matrix, make_scorer, accuracy_score\n",
    "\n",
    "from sklearn.naive_bayes import BernoulliNB, MultinomialNB, GaussianNB\n",
    "from sklearn.tree import DecisionTreeClassifier, DecisionTreeRegressor\n",
    "from sklearn.svm import LinearSVC, SVC\n",
    "from sklearn.ensemble import RandomForestClassifier\n",
    "\n",
    "from sklearn.metrics import classification_report, confusion_matrix, roc_auc_score, roc_curve, auc, log_loss"
   ]
  },
  {
   "cell_type": "code",
   "execution_count": 2,
   "metadata": {},
   "outputs": [],
   "source": [
    "with open('dec_flights_model.pickle','rb') as read_file:\n",
    "    dec_flights = pickle.load(read_file)"
   ]
  },
  {
   "cell_type": "code",
   "execution_count": 3,
   "metadata": {},
   "outputs": [
    {
     "data": {
      "text/plain": [
       "Index(['air_time', 'num_flights', 'distance', 'delay_level', 'airline_AS',\n",
       "       'airline_B6', 'airline_DL', 'airline_EV', 'airline_F9', 'airline_HA',\n",
       "       ...\n",
       "       'dest_SFO', 'dest_SHD', 'dest_SLC', 'dest_SLN', 'dest_SPN', 'dest_STS',\n",
       "       'dest_SWO', 'dest_TPA', 'dest_UIN', 'dest_VEL'],\n",
       "      dtype='object', length=148)"
      ]
     },
     "execution_count": 3,
     "metadata": {},
     "output_type": "execute_result"
    }
   ],
   "source": [
    "dec_flights.drop(columns=['carrier_delay','weather_delay','nas_delay','security_delay','late_aircraft_delay', 'dep_delay_indict','arr_delayed_indict'],axis=1,inplace=True)\n",
    "dec_flights.columns"
   ]
  },
  {
   "cell_type": "markdown",
   "metadata": {},
   "source": [
    "### Train_test_spilt"
   ]
  },
  {
   "cell_type": "code",
   "execution_count": 4,
   "metadata": {},
   "outputs": [
    {
     "name": "stderr",
     "output_type": "stream",
     "text": [
      "Using TensorFlow backend.\n"
     ]
    }
   ],
   "source": [
    "X1, y1 = dec_flights.drop('delay_level',axis=1), dec_flights['delay_level']\n",
    "\n",
    "from imblearn.under_sampling import RandomUnderSampler\n",
    "X, y = RandomUnderSampler(random_state=42).fit_sample(X1,y1)\n",
    "\n",
    "# hold out 20% of the data for final testing\n",
    "X, X_test, y, y_test = train_test_split(X, y, test_size=.2, random_state=10)\n",
    "\n",
    "#further spilt into 60% and 20% for train and validation\n",
    "X_train, X_val, y_train, y_val = train_test_split(X, y, test_size=.25, random_state=3)"
   ]
  },
  {
   "cell_type": "code",
   "execution_count": 5,
   "metadata": {},
   "outputs": [
    {
     "data": {
      "text/plain": [
       "Counter({1: 121432, 0: 121424})"
      ]
     },
     "execution_count": 5,
     "metadata": {},
     "output_type": "execute_result"
    }
   ],
   "source": [
    "from collections import Counter\n",
    "Counter(y)"
   ]
  },
  {
   "cell_type": "code",
   "execution_count": 6,
   "metadata": {},
   "outputs": [],
   "source": [
    "scaler = StandardScaler()\n",
    "scaler.fit(X_train)\n",
    "X_train = scaler.transform(X_train)\n",
    "X_val = scaler.transform(X_val)\n",
    "X_test = scaler.transform(X_test)"
   ]
  },
  {
   "cell_type": "code",
   "execution_count": 7,
   "metadata": {},
   "outputs": [],
   "source": [
    "#initialise list\n",
    "model = ['Logistic', 'Bernoulli', 'DecisionTree', 'RandomForest']\n",
    "accuracy = []\n",
    "f1 = []\n",
    "auc = []\n",
    "recall = []"
   ]
  },
  {
   "cell_type": "markdown",
   "metadata": {},
   "source": [
    "### Logistic Regression"
   ]
  },
  {
   "cell_type": "code",
   "execution_count": 8,
   "metadata": {},
   "outputs": [
    {
     "name": "stderr",
     "output_type": "stream",
     "text": [
      "/Users/kelseyheng/anaconda3/lib/python3.7/site-packages/sklearn/linear_model/logistic.py:432: FutureWarning: Default solver will be changed to 'lbfgs' in 0.22. Specify a solver to silence this warning.\n",
      "  FutureWarning)\n"
     ]
    },
    {
     "name": "stdout",
     "output_type": "stream",
     "text": [
      "The score for logistic regression is\n",
      "Training:  60.67%\n",
      "Validate:  60.15%\n",
      "Test set:  60.36%\n",
      "Log-loss: 0.6586\n"
     ]
    }
   ],
   "source": [
    "logistic = LogisticRegression()\n",
    "logistic.fit(X_train, y_train)\n",
    "print(\"The score for logistic regression is\")\n",
    "print(\"Training: {:6.2f}%\".format(100*logistic.score(X_train, y_train)))\n",
    "print(\"Validate: {:6.2f}%\".format(100*logistic.score(X_val, y_val)))\n",
    "print(\"Test set: {:6.2f}%\".format(100*logistic.score(X_test, y_test)))\n",
    "print(\"Log-loss: {:6.4f}\".format(log_loss(y_test, logistic.predict_proba(X_test))))"
   ]
  },
  {
   "cell_type": "code",
   "execution_count": 9,
   "metadata": {},
   "outputs": [
    {
     "name": "stdout",
     "output_type": "stream",
     "text": [
      "Logistic Results:\n",
      "[[18291 11996]\n",
      " [12197 18230]]\n",
      "              precision    recall  f1-score   support\n",
      "\n",
      "           0       0.60      0.60      0.60     30287\n",
      "           1       0.60      0.60      0.60     30427\n",
      "\n",
      "    accuracy                           0.60     60714\n",
      "   macro avg       0.60      0.60      0.60     60714\n",
      "weighted avg       0.60      0.60      0.60     60714\n",
      "\n"
     ]
    },
    {
     "name": "stderr",
     "output_type": "stream",
     "text": [
      "/Users/kelseyheng/anaconda3/lib/python3.7/site-packages/sklearn/linear_model/logistic.py:432: FutureWarning: Default solver will be changed to 'lbfgs' in 0.22. Specify a solver to silence this warning.\n",
      "  FutureWarning)\n"
     ]
    },
    {
     "name": "stdout",
     "output_type": "stream",
     "text": [
      "Logistic score: 0.601525\n"
     ]
    }
   ],
   "source": [
    "logistic_pred = logistic.predict(X_val)\n",
    "print('Logistic Results:')\n",
    "print(confusion_matrix(y_val,logistic_pred))\n",
    "print(classification_report(y_val, logistic_pred))\n",
    "logistic_score = logistic.fit(X_train, y_train).score(X_val, y_val)\n",
    "print('Logistic score: %f' % logistic_score)"
   ]
  },
  {
   "cell_type": "code",
   "execution_count": 10,
   "metadata": {},
   "outputs": [],
   "source": [
    "logistic_pred = logistic.predict(X_test)\n",
    "logistic_f1 = f1_score(logistic_pred, y_test)"
   ]
  },
  {
   "cell_type": "code",
   "execution_count": 11,
   "metadata": {},
   "outputs": [
    {
     "name": "stdout",
     "output_type": "stream",
     "text": [
      "AUC: 0.646\n"
     ]
    }
   ],
   "source": [
    "logistic_y_score = logistic.predict_proba(X_val)[:, 1]\n",
    "\n",
    "#calculate roc curve\n",
    "logistic_fpr, logistic_tpr, logistic_auc_thresholds = roc_curve(y_val, logistic_y_score)\n",
    "\n",
    "#calculate auc\n",
    "auc_logistic = roc_auc_score(y_val, logistic_y_score)\n",
    "print('AUC: %.3f' % auc_logistic)"
   ]
  },
  {
   "cell_type": "code",
   "execution_count": 12,
   "metadata": {},
   "outputs": [
    {
     "name": "stdout",
     "output_type": "stream",
     "text": [
      "Recall: 0.605\n"
     ]
    }
   ],
   "source": [
    "#precision-recall auc\n",
    "\n",
    "recall_logistic = recall_score(y_train, logistic.predict(X_train))\n",
    "print('Recall: %.3f' % recall_logistic)"
   ]
  },
  {
   "cell_type": "code",
   "execution_count": 13,
   "metadata": {},
   "outputs": [
    {
     "name": "stdout",
     "output_type": "stream",
     "text": [
      "Accuracy:  [0.6015251836479231]\n",
      "F1:  [0.6022443684201828]\n",
      "AUC:  [0.6463980726081482]\n",
      "Recall:  [0.6046590846656777]\n"
     ]
    }
   ],
   "source": [
    "accuracy.append(logistic_score)\n",
    "print('Accuracy: ',accuracy)\n",
    "\n",
    "f1.append(logistic_f1)\n",
    "print('F1: ', f1)\n",
    "\n",
    "auc.append(auc_logistic)\n",
    "print('AUC: ', auc)\n",
    "\n",
    "recall.append(recall_logistic)\n",
    "print('Recall: ', recall)"
   ]
  },
  {
   "cell_type": "code",
   "execution_count": null,
   "metadata": {},
   "outputs": [
    {
     "ename": "AttributeError",
     "evalue": "'numpy.ndarray' object has no attribute 'columns'",
     "output_type": "error",
     "traceback": [
      "\u001b[0;31m---------------------------------------------------------------------------\u001b[0m",
      "\u001b[0;31mAttributeError\u001b[0m                            Traceback (most recent call last)",
      "\u001b[0;32m<ipython-input-14-2e3d54512a8e>\u001b[0m in \u001b[0;36m<module>\u001b[0;34m\u001b[0m\n\u001b[1;32m      9\u001b[0m \u001b[0mfeatax\u001b[0m\u001b[0;34m.\u001b[0m\u001b[0mbarh\u001b[0m\u001b[0;34m(\u001b[0m\u001b[0mpos\u001b[0m\u001b[0;34m,\u001b[0m \u001b[0mfeature_importance\u001b[0m\u001b[0;34m[\u001b[0m\u001b[0msorted_idx\u001b[0m\u001b[0;34m]\u001b[0m\u001b[0;34m,\u001b[0m \u001b[0malign\u001b[0m\u001b[0;34m=\u001b[0m\u001b[0;34m'center'\u001b[0m\u001b[0;34m,\u001b[0m \u001b[0mcolor\u001b[0m\u001b[0;34m=\u001b[0m\u001b[0;34m'#65b1b2'\u001b[0m\u001b[0;34m)\u001b[0m\u001b[0;34m\u001b[0m\u001b[0;34m\u001b[0m\u001b[0m\n\u001b[1;32m     10\u001b[0m \u001b[0mfeatax\u001b[0m\u001b[0;34m.\u001b[0m\u001b[0mset_yticks\u001b[0m\u001b[0;34m(\u001b[0m\u001b[0mpos\u001b[0m\u001b[0;34m)\u001b[0m\u001b[0;34m\u001b[0m\u001b[0;34m\u001b[0m\u001b[0m\n\u001b[0;32m---> 11\u001b[0;31m \u001b[0mfeatax\u001b[0m\u001b[0;34m.\u001b[0m\u001b[0mset_yticklabels\u001b[0m\u001b[0;34m(\u001b[0m\u001b[0mnp\u001b[0m\u001b[0;34m.\u001b[0m\u001b[0marray\u001b[0m\u001b[0;34m(\u001b[0m\u001b[0mX\u001b[0m\u001b[0;34m.\u001b[0m\u001b[0mcolumns\u001b[0m\u001b[0;34m)\u001b[0m\u001b[0;34m[\u001b[0m\u001b[0msorted_idx\u001b[0m\u001b[0;34m]\u001b[0m\u001b[0;34m,\u001b[0m \u001b[0mfontsize\u001b[0m\u001b[0;34m=\u001b[0m\u001b[0;36m13\u001b[0m\u001b[0;34m)\u001b[0m\u001b[0;34m\u001b[0m\u001b[0;34m\u001b[0m\u001b[0m\n\u001b[0m\u001b[1;32m     12\u001b[0m \u001b[0mfeatax\u001b[0m\u001b[0;34m.\u001b[0m\u001b[0mset_xlabel\u001b[0m\u001b[0;34m(\u001b[0m\u001b[0;34m'Relative Feature Importance'\u001b[0m\u001b[0;34m)\u001b[0m\u001b[0;34m\u001b[0m\u001b[0;34m\u001b[0m\u001b[0m\n\u001b[1;32m     13\u001b[0m \u001b[0;34m\u001b[0m\u001b[0m\n",
      "\u001b[0;31mAttributeError\u001b[0m: 'numpy.ndarray' object has no attribute 'columns'"
     ]
    }
   ],
   "source": [
    "#most updated graph parameters!!!!!\n",
    "feature_importance = abs(logistic.coef_[0])\n",
    "feature_importance = 100.0 * (feature_importance / feature_importance.max())\n",
    "sorted_idx = np.argsort(feature_importance)\n",
    "pos = np.arange(sorted_idx.shape[0]) + .5\n",
    "\n",
    "featfig = plt.figure(1,figsize=(10,20))\n",
    "featax = featfig.add_subplot(1, 1, 1)\n",
    "featax.barh(pos, feature_importance[sorted_idx], align='center', color='#65b1b2')\n",
    "featax.set_yticks(pos)\n",
    "featax.set_yticklabels(np.array(X.columns)[sorted_idx], fontsize=13)\n",
    "featax.set_xlabel('Relative Feature Importance')\n",
    "\n",
    "featax.spines['right'].set_visible(False)\n",
    "featax.spines['top'].set_visible(False)\n",
    "featax.spines['bottom'].set_visible(True)\n",
    "featax.spines['left'].set_visible(True)\n",
    "\n",
    "featax.patch.set_visible(False)\n",
    "\n",
    "#plt.savefig('feature_importance.jpg', transparent=True);\n",
    "plt.show()"
   ]
  },
  {
   "cell_type": "markdown",
   "metadata": {},
   "source": [
    "### Naive Bayes"
   ]
  },
  {
   "cell_type": "code",
   "execution_count": 14,
   "metadata": {},
   "outputs": [
    {
     "name": "stdout",
     "output_type": "stream",
     "text": [
      "The score for BernoulliNB is\n",
      "Training:  58.80%\n",
      "Training:  58.54%\n",
      "Test set:  58.31%\n",
      "Log-loss: 0.6729\n"
     ]
    }
   ],
   "source": [
    "nb = BernoulliNB()\n",
    "nb.fit(X_train,y_train)\n",
    "nb.score(X_test,y_test)\n",
    "\n",
    "print(\"The score for BernoulliNB is\")\n",
    "print(\"Training: {:6.2f}%\".format(100*nb.score(X_train, y_train)))\n",
    "print(\"Training: {:6.2f}%\".format(100*nb.score(X_val, y_val)))\n",
    "print(\"Test set: {:6.2f}%\".format(100*nb.score(X_test, y_test)))\n",
    "print(\"Log-loss: {:6.4f}\".format(log_loss(y_test, nb.predict_proba(X_test))))"
   ]
  },
  {
   "cell_type": "code",
   "execution_count": 15,
   "metadata": {},
   "outputs": [
    {
     "name": "stdout",
     "output_type": "stream",
     "text": [
      "Bernoulli Results:\n",
      "[[17049 13238]\n",
      " [11935 18492]]\n",
      "              precision    recall  f1-score   support\n",
      "\n",
      "           0       0.59      0.56      0.58     30287\n",
      "           1       0.58      0.61      0.60     30427\n",
      "\n",
      "    accuracy                           0.59     60714\n",
      "   macro avg       0.59      0.59      0.59     60714\n",
      "weighted avg       0.59      0.59      0.59     60714\n",
      "\n",
      "Bernoulli score: 0.585384\n"
     ]
    }
   ],
   "source": [
    "nb_pred = nb.predict(X_val)\n",
    "print('Bernoulli Results:')\n",
    "print(confusion_matrix(y_val,nb_pred))\n",
    "print(classification_report(y_val, nb_pred))\n",
    "nb_score = nb.fit(X_train, y_train).score(X_val, y_val)\n",
    "print('Bernoulli score: %f' % nb_score)"
   ]
  },
  {
   "cell_type": "code",
   "execution_count": 16,
   "metadata": {},
   "outputs": [
    {
     "name": "stdout",
     "output_type": "stream",
     "text": [
      "0.5934729538738276\n"
     ]
    }
   ],
   "source": [
    "nb_pred = nb.predict(X_test)\n",
    "nb_f1= f1_score(y_test, nb_pred)\n",
    "print(nb_f1)"
   ]
  },
  {
   "cell_type": "code",
   "execution_count": 17,
   "metadata": {},
   "outputs": [
    {
     "name": "stdout",
     "output_type": "stream",
     "text": [
      "AUC_bernoulli: 0.619\n"
     ]
    }
   ],
   "source": [
    "nb_y_score = nb.predict_proba(X_val)[:, 1]\n",
    "#calculate roc curve\n",
    "bernoulli_fpr, bernoulli_tpr, bernoulli_auc_thresholds = roc_curve(y_val, nb_y_score)\n",
    "\n",
    "#calculate auc\n",
    "auc_nb = roc_auc_score(y_val, nb_y_score)\n",
    "print('AUC_bernoulli: %.3f' % auc_nb)"
   ]
  },
  {
   "cell_type": "code",
   "execution_count": 18,
   "metadata": {},
   "outputs": [
    {
     "name": "stdout",
     "output_type": "stream",
     "text": [
      "Recall: 0.612\n"
     ]
    }
   ],
   "source": [
    "recall_nb = recall_score(y_train, nb.predict(X_train))\n",
    "print('Recall: %.3f' % recall_nb)"
   ]
  },
  {
   "cell_type": "code",
   "execution_count": 19,
   "metadata": {},
   "outputs": [
    {
     "name": "stdout",
     "output_type": "stream",
     "text": [
      "Accuracy:  [0.6015251836479231, 0.5853839312184999]\n",
      "F1:  [0.6022443684201828, 0.5934729538738276]\n",
      "AUC:  [0.6463980726081482, 0.6185485956329945]\n",
      "Recall:  [0.6046590846656777, 0.6120652711389484]\n"
     ]
    }
   ],
   "source": [
    "accuracy.append(nb_score)\n",
    "print('Accuracy: ',accuracy)\n",
    "\n",
    "nb_f1 = f1_score(nb_pred, y_test)\n",
    "f1.append(nb_f1)\n",
    "print('F1: ', f1)\n",
    "\n",
    "auc.append(auc_nb)\n",
    "print('AUC: ', auc)\n",
    "\n",
    "recall.append(recall_nb)\n",
    "print('Recall: ', recall)"
   ]
  },
  {
   "cell_type": "markdown",
   "metadata": {},
   "source": [
    "### DecisionTree"
   ]
  },
  {
   "cell_type": "code",
   "execution_count": 20,
   "metadata": {},
   "outputs": [
    {
     "name": "stdout",
     "output_type": "stream",
     "text": [
      "The score for DecisionTreeClassifier is\n",
      "Training:  96.96%\n",
      "Validate:  55.70%\n",
      "Test set:  55.93%\n"
     ]
    }
   ],
   "source": [
    "tree = DecisionTreeClassifier(max_depth = 50)\n",
    "tree.fit(X_train, y_train)\n",
    "tree.score(X_train, y_train)\n",
    "\n",
    "print(\"The score for DecisionTreeClassifier is\")\n",
    "print(\"Training: {:6.2f}%\".format(100*tree.score(X_train, y_train)))\n",
    "print(\"Validate: {:6.2f}%\".format(100*tree.score(X_val, y_val)))\n",
    "print(\"Test set: {:6.2f}%\".format(100*tree.score(X_test, y_test)))"
   ]
  },
  {
   "cell_type": "code",
   "execution_count": 21,
   "metadata": {},
   "outputs": [
    {
     "name": "stdout",
     "output_type": "stream",
     "text": [
      "Tree Results:\n",
      "[[17087 13200]\n",
      " [13697 16730]]\n",
      "              precision    recall  f1-score   support\n",
      "\n",
      "           0       0.56      0.56      0.56     30287\n",
      "           1       0.56      0.55      0.55     30427\n",
      "\n",
      "    accuracy                           0.56     60714\n",
      "   macro avg       0.56      0.56      0.56     60714\n",
      "weighted avg       0.56      0.56      0.56     60714\n",
      "\n",
      "Tree score: 0.556132\n"
     ]
    }
   ],
   "source": [
    "tree_pred = tree.predict(X_val)\n",
    "print('Tree Results:')\n",
    "print(confusion_matrix(y_val, tree_pred))\n",
    "print(classification_report(y_val, tree_pred))\n",
    "tree_score = tree.fit(X_train, y_train).score(X_val, y_val)\n",
    "print('Tree score: %f' % tree_score)"
   ]
  },
  {
   "cell_type": "code",
   "execution_count": 22,
   "metadata": {},
   "outputs": [],
   "source": [
    "tree_pred = tree.predict(X_test)\n",
    "tree_f1 = f1_score(y_test, tree_pred)"
   ]
  },
  {
   "cell_type": "code",
   "execution_count": 23,
   "metadata": {},
   "outputs": [
    {
     "name": "stdout",
     "output_type": "stream",
     "text": [
      "AUC: 0.556\n"
     ]
    }
   ],
   "source": [
    "tree_y_score = tree.predict_proba(X_val)[:, 1]\n",
    "#calculate roc curve\n",
    "tree_fpr, tree_tpr, tree_auc_thresholds = roc_curve(y_val, tree_y_score)\n",
    "\n",
    "#calculate auc\n",
    "auc_tree = roc_auc_score(y_val, tree_y_score)\n",
    "print('AUC: %.3f' % auc_tree)"
   ]
  },
  {
   "cell_type": "code",
   "execution_count": 24,
   "metadata": {},
   "outputs": [
    {
     "name": "stdout",
     "output_type": "stream",
     "text": [
      "Recall: 0.962\n"
     ]
    }
   ],
   "source": [
    "recall_tree = recall_score(y_train, tree.predict(X_train))\n",
    "print('Recall: %.3f' % recall_tree)"
   ]
  },
  {
   "cell_type": "code",
   "execution_count": 25,
   "metadata": {},
   "outputs": [
    {
     "name": "stdout",
     "output_type": "stream",
     "text": [
      "Accuracy:  [0.6015251836479231, 0.5853839312184999, 0.5561320288566064]\n",
      "F1:  [0.6022443684201828, 0.5934729538738276, 0.555982898928707]\n",
      "AUC:  [0.6463980726081482, 0.6185485956329945, 0.555501733539598]\n",
      "Recall:  [0.6046590846656777, 0.6120652711389484, 0.9620350530190649]\n"
     ]
    }
   ],
   "source": [
    "accuracy.append(tree_score)\n",
    "print('Accuracy: ',accuracy)\n",
    "\n",
    "tree_f1 = f1_score(tree_pred, y_test)\n",
    "f1.append(tree_f1)\n",
    "print('F1: ', f1)\n",
    "\n",
    "auc.append(auc_tree)\n",
    "print('AUC: ', auc)\n",
    "\n",
    "recall.append(recall_tree)\n",
    "print('Recall: ', recall)"
   ]
  },
  {
   "cell_type": "markdown",
   "metadata": {},
   "source": [
    "### RandomForest"
   ]
  },
  {
   "cell_type": "code",
   "execution_count": 26,
   "metadata": {},
   "outputs": [
    {
     "name": "stdout",
     "output_type": "stream",
     "text": [
      "The score for Random Forest is\n",
      "Training:  99.24%\n",
      "Training:  58.35%\n",
      "Test set:  58.15%\n",
      "Log-loss: 0.7386\n"
     ]
    }
   ],
   "source": [
    "forest = RandomForestClassifier(n_estimators=100)\n",
    "forest.fit(X_train, y_train)\n",
    "forest.score(X_train, y_train)\n",
    "\n",
    "print(\"The score for Random Forest is\")\n",
    "print(\"Training: {:6.2f}%\".format(100*forest.score(X_train, y_train)))\n",
    "print(\"Training: {:6.2f}%\".format(100*forest.score(X_val, y_val)))\n",
    "print(\"Test set: {:6.2f}%\".format(100*forest.score(X_test, y_test)))\n",
    "print(\"Log-loss: {:6.4f}\".format(log_loss(y_test, forest.predict_proba(X_test))))"
   ]
  },
  {
   "cell_type": "code",
   "execution_count": 27,
   "metadata": {},
   "outputs": [
    {
     "name": "stdout",
     "output_type": "stream",
     "text": [
      "Forest Results:\n",
      "[[17963 12324]\n",
      " [12965 17462]]\n",
      "              precision    recall  f1-score   support\n",
      "\n",
      "           0       0.58      0.59      0.59     30287\n",
      "           1       0.59      0.57      0.58     30427\n",
      "\n",
      "    accuracy                           0.58     60714\n",
      "   macro avg       0.58      0.58      0.58     60714\n",
      "weighted avg       0.58      0.58      0.58     60714\n",
      "\n",
      "Forest score: 0.583012\n"
     ]
    }
   ],
   "source": [
    "forest_pred = forest.predict(X_val)\n",
    "print('Forest Results:')\n",
    "print(confusion_matrix(y_val, forest_pred))\n",
    "print(classification_report(y_val, forest_pred))\n",
    "forest_score = forest.fit(X_train, y_train).score(X_val, y_val)\n",
    "print('Forest score: %f' % forest_score)"
   ]
  },
  {
   "cell_type": "code",
   "execution_count": 28,
   "metadata": {},
   "outputs": [],
   "source": [
    "forest_pred = forest.predict(X_test)\n",
    "forest_f1 = f1_score(forest_pred, y_test)"
   ]
  },
  {
   "cell_type": "code",
   "execution_count": 29,
   "metadata": {},
   "outputs": [
    {
     "name": "stdout",
     "output_type": "stream",
     "text": [
      "AUC_forest: 0.616\n"
     ]
    }
   ],
   "source": [
    "forest_y_score = forest.predict_proba(X_val)[:, 1]\n",
    "#calculate roc curve\n",
    "forest_fpr, forest_tpr, forest_auc_thresholds = roc_curve(y_val, forest_y_score)\n",
    "\n",
    "#calculate auc\n",
    "auc_forest = roc_auc_score(y_val, forest_y_score)\n",
    "print('AUC_forest: %.3f' % auc_forest)"
   ]
  },
  {
   "cell_type": "code",
   "execution_count": 30,
   "metadata": {},
   "outputs": [
    {
     "name": "stdout",
     "output_type": "stream",
     "text": [
      "Recall: 0.992\n"
     ]
    }
   ],
   "source": [
    "recall_forest = recall_score(y_train, forest.predict(X_train))\n",
    "print('Recall: %.3f' % recall_forest)"
   ]
  },
  {
   "cell_type": "code",
   "execution_count": 31,
   "metadata": {},
   "outputs": [
    {
     "name": "stdout",
     "output_type": "stream",
     "text": [
      "Accuracy:  [0.6015251836479231, 0.5853839312184999, 0.5561320288566064, 0.5830121553513193]\n",
      "F1:  [0.6022443684201828, 0.5934729538738276, 0.555982898928707, 0.580426516779633]\n",
      "AUC:  [0.6463980726081482, 0.6185485956329945, 0.555501733539598, 0.6155533584591979]\n",
      "Recall:  [0.6046590846656777, 0.6120652711389484, 0.9620350530190649, 0.992231196088127]\n"
     ]
    }
   ],
   "source": [
    "accuracy.append(forest_score)\n",
    "print('Accuracy: ',accuracy)\n",
    "\n",
    "forest_f1 = f1_score(forest_pred, y_test)\n",
    "f1.append(forest_f1)\n",
    "print('F1: ', f1)\n",
    "\n",
    "auc.append(auc_forest)\n",
    "print('AUC: ', auc)\n",
    "\n",
    "recall.append(recall_forest)\n",
    "print('Recall: ', recall)"
   ]
  },
  {
   "cell_type": "markdown",
   "metadata": {},
   "source": [
    "### Graphs"
   ]
  },
  {
   "cell_type": "code",
   "execution_count": 32,
   "metadata": {},
   "outputs": [
    {
     "name": "stdout",
     "output_type": "stream",
     "text": [
      "Model:  ['Logistic', 'Bernoulli', 'DecisionTree', 'RandomForest']\n",
      "Accuracy score:  [0.6015251836479231, 0.5853839312184999, 0.5561320288566064, 0.5830121553513193]\n",
      "F1 score: [0.6022443684201828, 0.5934729538738276, 0.555982898928707, 0.580426516779633]\n",
      "AUC score: [0.6463980726081482, 0.6185485956329945, 0.555501733539598, 0.6155533584591979]\n",
      "Precision recall: [0.6046590846656777, 0.6120652711389484, 0.9620350530190649, 0.992231196088127]\n"
     ]
    }
   ],
   "source": [
    "print('Model: ', model)\n",
    "print('Accuracy score: ', accuracy)\n",
    "print('F1 score:', f1)\n",
    "print('AUC score:', auc)\n",
    "print('Precision recall:', recall)"
   ]
  },
  {
   "cell_type": "code",
   "execution_count": 33,
   "metadata": {},
   "outputs": [
    {
     "data": {
      "image/png": "[encoded data removed]",
      "text/plain": [
       "<Figure size 864x504 with 1 Axes>"
      ]
     },
     "metadata": {
      "needs_background": "light"
     },
     "output_type": "display_data"
    }
   ],
   "source": [
    "model=['Logistic', 'Bernoulli', 'DecisionTree', 'RandomForest']\n",
    "\n",
    "plt.figure(figsize=(12,7))\n",
    "sns.despine()\n",
    "ax = sns.barplot(x=model, y=accuracy,color='#85cbb3')\n",
    "\n",
    "plt.title('Accuracy Score', fontsize=20, fontweight='bold')\n",
    "\n",
    "plt.xlabel('Model', fontsize=16, fontweight='bold')\n",
    "plt.xticks(fontsize=14)\n",
    "\n",
    "#plt.ylabel('Score', fontsize=14, fontweight='bold')\n",
    "plt.yticks(fontsize=14)\n",
    "plt.ylim([0,1.0])\n",
    "\n",
    "ax.spines['right'].set_visible(False)\n",
    "ax.spines['top'].set_visible(False)\n",
    "ax.spines['bottom'].set_visible(True)\n",
    "ax.spines['left'].set_visible(True)\n",
    "\n",
    "plt.savefig('accuracy_score_undersample.jpg', transparent=True)"
   ]
  },
  {
   "cell_type": "code",
   "execution_count": 34,
   "metadata": {},
   "outputs": [
    {
     "data": {
      "text/plain": [
       "''"
      ]
     },
     "execution_count": 34,
     "metadata": {},
     "output_type": "execute_result"
    },
    {
     "data": {
      "image/png": "[encoded data removed]",
      "text/plain": [
       "<Figure size 864x504 with 1 Axes>"
      ]
     },
     "metadata": {
      "needs_background": "light"
     },
     "output_type": "display_data"
    }
   ],
   "source": [
    "model=['Logistic', 'Bernoulli', 'DecisionTree', 'RandomForest']\n",
    "\n",
    "plt.figure(figsize=(12,7))\n",
    "sns.despine()\n",
    "ax = sns.barplot(x=model, y=f1,color='#85cbb3')\n",
    "\n",
    "plt.title('F1 Score', fontsize=20, fontweight='bold')\n",
    "\n",
    "plt.xlabel('Model', fontsize=16, fontweight='bold')\n",
    "plt.xticks(fontsize=14)\n",
    "\n",
    "#plt.ylabel('Score', fontsize=14, fontweight='bold')\n",
    "plt.yticks(fontsize=14)\n",
    "plt.ylim([0,1.0])\n",
    "\n",
    "ax.spines['right'].set_visible(False)\n",
    "ax.spines['top'].set_visible(False)\n",
    "ax.spines['bottom'].set_visible(True)\n",
    "ax.spines['left'].set_visible(True)\n",
    "\n",
    "plt.savefig('f1_score_undersample.jpg', transparent=True)\n",
    ";"
   ]
  },
  {
   "cell_type": "code",
   "execution_count": 35,
   "metadata": {},
   "outputs": [
    {
     "data": {
      "text/plain": [
       "''"
      ]
     },
     "execution_count": 35,
     "metadata": {},
     "output_type": "execute_result"
    },
    {
     "data": {
      "image/png": "[encoded data removed]",
      "text/plain": [
       "<Figure size 864x504 with 1 Axes>"
      ]
     },
     "metadata": {
      "needs_background": "light"
     },
     "output_type": "display_data"
    }
   ],
   "source": [
    "model=['Logistic', 'Bernoulli', 'DecisionTree', 'RandomForest']\n",
    "\n",
    "plt.figure(figsize=(12,7))\n",
    "sns.despine()\n",
    "ax = sns.barplot(x=model, y=auc,color='#85cbb3')\n",
    "\n",
    "plt.title('Area Under Curve(AUC)', fontsize=20, fontweight='bold')\n",
    "\n",
    "plt.xlabel('Model', fontsize=16, fontweight='bold')\n",
    "plt.xticks(fontsize=14)\n",
    "\n",
    "#plt.ylabel('Score', fontsize=14, fontweight='bold')\n",
    "plt.yticks(fontsize=14)\n",
    "plt.ylim([0,1.0])\n",
    "\n",
    "ax.spines['right'].set_visible(False)\n",
    "ax.spines['top'].set_visible(False)\n",
    "ax.spines['bottom'].set_visible(True)\n",
    "ax.spines['left'].set_visible(True)\n",
    "\n",
    "plt.savefig('auc_undersample.jpg', transparent=True)\n",
    ";"
   ]
  },
  {
   "cell_type": "code",
   "execution_count": 36,
   "metadata": {},
   "outputs": [
    {
     "data": {
      "text/plain": [
       "''"
      ]
     },
     "execution_count": 36,
     "metadata": {},
     "output_type": "execute_result"
    },
    {
     "data": {
      "image/png": "[encoded data removed]",
      "text/plain": [
       "<Figure size 864x504 with 1 Axes>"
      ]
     },
     "metadata": {
      "needs_background": "light"
     },
     "output_type": "display_data"
    }
   ],
   "source": [
    "model=['Logistic', 'Bernoulli', 'DecisionTree', 'RandomForest']\n",
    "\n",
    "plt.figure(figsize=(12,7))\n",
    "sns.despine()\n",
    "ax = sns.barplot(x=model, y=recall,color='#85cbb3')\n",
    "\n",
    "plt.title('Recall Score', fontsize=20, fontweight='bold')\n",
    "\n",
    "plt.xlabel('Model', fontsize=16, fontweight='bold')\n",
    "plt.xticks(fontsize=14)\n",
    "\n",
    "#plt.ylabel('Score', fontsize=14, fontweight='bold')\n",
    "plt.yticks(fontsize=14)\n",
    "plt.ylim([0,1.0])\n",
    "\n",
    "ax.spines['right'].set_visible(False)\n",
    "ax.spines['top'].set_visible(False)\n",
    "ax.spines['bottom'].set_visible(True)\n",
    "ax.spines['left'].set_visible(True)\n",
    "\n",
    "plt.savefig('recall_undersample.jpg', transparent=True)\n",
    ";"
   ]
  },
  {
   "cell_type": "code",
   "execution_count": 38,
   "metadata": {},
   "outputs": [
    {
     "data": {
      "image/png": "[encoded data removed]",
      "text/plain": [
       "<Figure size 720x576 with 1 Axes>"
      ]
     },
     "metadata": {
      "needs_background": "light"
     },
     "output_type": "display_data"
    }
   ],
   "source": [
    "fig = plt.figure(figsize=(10,8))\n",
    "lw = 2\n",
    "\n",
    "# plt.plot(knn_fpr, knn_tpr, color='#474f5b',\n",
    "#          lw=lw, label='KNN curve (AUC = %0.2f)' % auc_knn)\n",
    "plt.plot(tree_fpr, tree_tpr, color='#626e9d',\n",
    "         lw=lw, label='Decision Tree (AUC = %0.2f)' % auc_tree)\n",
    "plt.plot(forest_fpr, forest_tpr, color='#e6568d',\n",
    "         lw=lw, label='Random Forest (AUC = %0.2f)' % auc_forest)\n",
    "plt.plot(bernoulli_fpr, bernoulli_tpr, color='#66c5de',\n",
    "         lw=lw, label='Bernoulli NB (AUC = %0.2f)' % auc_nb)\n",
    "plt.plot(logistic_fpr, logistic_tpr, color='#fad16a',\n",
    "         lw=lw, label='Logistic curve (AUC = %0.2f)' % auc_logistic)\n",
    "\n",
    "\n",
    "plt.plot([0, 1], [0, 1], color='darkgrey', lw=lw, linestyle='--')\n",
    "\n",
    "plt.xlim([0.0, 1.0])\n",
    "plt.ylim([0.0, 1.0])\n",
    "plt.xlabel('False Positive Rate',fontsize = 16, weight='bold')\n",
    "plt.xticks(fontsize=14)\n",
    "plt.ylabel('True Positive Rate', fontsize = 16, weight='bold')\n",
    "plt.yticks(fontsize=14)\n",
    "# plt.title('AUC Curves', fontsize = 20)\n",
    "plt.legend(loc=\"lower right\", fontsize = 14)\n",
    "\n",
    "plt.savefig('auc_curves_undersample.jpg')\n",
    "plt.show()"
   ]
  },
  {
   "cell_type": "code",
   "execution_count": null,
   "metadata": {},
   "outputs": [],
   "source": []
  },
  {
   "cell_type": "code",
   "execution_count": null,
   "metadata": {},
   "outputs": [],
   "source": []
  }
 ],
 "metadata": {
  "kernelspec": {
   "display_name": "Python 3",
   "language": "python",
   "name": "python3"
  },
  "language_info": {
   "codemirror_mode": {
    "name": "ipython",
    "version": 3
   },
   "file_extension": ".py",
   "mimetype": "text/x-python",
   "name": "python",
   "nbconvert_exporter": "python",
   "pygments_lexer": "ipython3",
   "version": "3.7.3"
  }
 },
 "nbformat": 4,
 "nbformat_minor": 2
}
