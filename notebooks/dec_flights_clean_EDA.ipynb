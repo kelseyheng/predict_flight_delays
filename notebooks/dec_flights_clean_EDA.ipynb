{
 "cells": [
  {
   "cell_type": "code",
   "execution_count": 1,
   "metadata": {},
   "outputs": [],
   "source": [
    "import pandas as pd\n",
    "import numpy as np\n",
    "import pickle\n",
    "import matplotlib.pyplot as plt\n",
    "import seaborn as sns"
   ]
  },
  {
   "cell_type": "code",
   "execution_count": 2,
   "metadata": {},
   "outputs": [],
   "source": [
    "with open('dec_flights.pickle','rb') as read_file:\n",
    "    dec_flights = pickle.load(read_file)"
   ]
  },
  {
   "cell_type": "code",
   "execution_count": 3,
   "metadata": {},
   "outputs": [
    {
     "name": "stdout",
     "output_type": "stream",
     "text": [
      "<class 'pandas.core.frame.DataFrame'>\n",
      "Int64Index: 492205 entries, 0 to 492204\n",
      "Data columns (total 24 columns):\n",
      "date                   492205 non-null datetime64[ns]\n",
      "day_of_week            492205 non-null int64\n",
      "airline                492205 non-null object\n",
      "airline_name           492205 non-null object\n",
      "origin_airport         492205 non-null object\n",
      "dest_airport           492205 non-null object\n",
      "scheduled_dep          484111 non-null datetime64[ns]\n",
      "dep_time               492205 non-null object\n",
      "dep_delay              492205 non-null float64\n",
      "dep_delay_indict       492205 non-null float64\n",
      "scheduled_arr          484111 non-null datetime64[ns]\n",
      "arr_time               492205 non-null object\n",
      "arr_delay              492205 non-null float64\n",
      "arr_delayed_indict     492205 non-null float64\n",
      "air_time               492205 non-null float64\n",
      "num_flights            492205 non-null float64\n",
      "distance               492205 non-null float64\n",
      "carrier_delay          492205 non-null float64\n",
      "weather_delay          492205 non-null float64\n",
      "nas_delay              492205 non-null float64\n",
      "security_delay         492205 non-null float64\n",
      "late_aircraft_delay    492205 non-null float64\n",
      "total_delay            492205 non-null float64\n",
      "delay_level            492205 non-null int64\n",
      "dtypes: datetime64[ns](3), float64(13), int64(2), object(6)\n",
      "memory usage: 93.9+ MB\n"
     ]
    }
   ],
   "source": [
    "dec_flights.info()"
   ]
  },
  {
   "cell_type": "code",
   "execution_count": 4,
   "metadata": {
    "scrolled": true
   },
   "outputs": [],
   "source": [
    "dec_flights['scheduled_dep_hr'] = dec_flights['scheduled_dep'].dt.hour"
   ]
  },
  {
   "cell_type": "code",
   "execution_count": 5,
   "metadata": {},
   "outputs": [],
   "source": [
    "dec_flights['scheduled_arr_hr'] = dec_flights['scheduled_arr'].dt.hour"
   ]
  },
  {
   "cell_type": "code",
   "execution_count": 6,
   "metadata": {},
   "outputs": [
    {
     "data": {
      "text/html": [
       "<div>\n",
       "<style scoped>\n",
       "    .dataframe tbody tr th:only-of-type {\n",
       "        vertical-align: middle;\n",
       "    }\n",
       "\n",
       "    .dataframe tbody tr th {\n",
       "        vertical-align: top;\n",
       "    }\n",
       "\n",
       "    .dataframe thead th {\n",
       "        text-align: right;\n",
       "    }\n",
       "</style>\n",
       "<table border=\"1\" class=\"dataframe\">\n",
       "  <thead>\n",
       "    <tr style=\"text-align: right;\">\n",
       "      <th></th>\n",
       "      <th>date</th>\n",
       "      <th>day_of_week</th>\n",
       "      <th>airline</th>\n",
       "      <th>airline_name</th>\n",
       "      <th>origin_airport</th>\n",
       "      <th>dest_airport</th>\n",
       "      <th>scheduled_dep</th>\n",
       "      <th>dep_time</th>\n",
       "      <th>dep_delay</th>\n",
       "      <th>dep_delay_indict</th>\n",
       "      <th>...</th>\n",
       "      <th>distance</th>\n",
       "      <th>carrier_delay</th>\n",
       "      <th>weather_delay</th>\n",
       "      <th>nas_delay</th>\n",
       "      <th>security_delay</th>\n",
       "      <th>late_aircraft_delay</th>\n",
       "      <th>total_delay</th>\n",
       "      <th>delay_level</th>\n",
       "      <th>scheduled_dep_hr</th>\n",
       "      <th>scheduled_arr_hr</th>\n",
       "    </tr>\n",
       "  </thead>\n",
       "  <tbody>\n",
       "    <tr>\n",
       "      <th>0</th>\n",
       "      <td>2018-12-27</td>\n",
       "      <td>4</td>\n",
       "      <td>UA</td>\n",
       "      <td>United Air Lines Inc.</td>\n",
       "      <td>IAH</td>\n",
       "      <td>FLL</td>\n",
       "      <td>2018-12-25 13:40:00</td>\n",
       "      <td>21:16:00</td>\n",
       "      <td>76.0</td>\n",
       "      <td>1.0</td>\n",
       "      <td>...</td>\n",
       "      <td>966.0</td>\n",
       "      <td>0.0</td>\n",
       "      <td>70.0</td>\n",
       "      <td>0.0</td>\n",
       "      <td>0.0</td>\n",
       "      <td>0.0</td>\n",
       "      <td>146.0</td>\n",
       "      <td>2</td>\n",
       "      <td>13.0</td>\n",
       "      <td>15.0</td>\n",
       "    </tr>\n",
       "    <tr>\n",
       "      <th>1</th>\n",
       "      <td>2018-12-27</td>\n",
       "      <td>4</td>\n",
       "      <td>UA</td>\n",
       "      <td>United Air Lines Inc.</td>\n",
       "      <td>SAN</td>\n",
       "      <td>IAH</td>\n",
       "      <td>2018-12-25 20:47:00</td>\n",
       "      <td>16:57:00</td>\n",
       "      <td>204.0</td>\n",
       "      <td>1.0</td>\n",
       "      <td>...</td>\n",
       "      <td>1303.0</td>\n",
       "      <td>0.0</td>\n",
       "      <td>0.0</td>\n",
       "      <td>0.0</td>\n",
       "      <td>0.0</td>\n",
       "      <td>188.0</td>\n",
       "      <td>392.0</td>\n",
       "      <td>2</td>\n",
       "      <td>20.0</td>\n",
       "      <td>23.0</td>\n",
       "    </tr>\n",
       "    <tr>\n",
       "      <th>2</th>\n",
       "      <td>2018-12-27</td>\n",
       "      <td>4</td>\n",
       "      <td>UA</td>\n",
       "      <td>United Air Lines Inc.</td>\n",
       "      <td>LGA</td>\n",
       "      <td>IAH</td>\n",
       "      <td>2018-12-25 20:00:00</td>\n",
       "      <td>07:37:00</td>\n",
       "      <td>-5.0</td>\n",
       "      <td>0.0</td>\n",
       "      <td>...</td>\n",
       "      <td>1416.0</td>\n",
       "      <td>0.0</td>\n",
       "      <td>0.0</td>\n",
       "      <td>0.0</td>\n",
       "      <td>0.0</td>\n",
       "      <td>0.0</td>\n",
       "      <td>9.0</td>\n",
       "      <td>1</td>\n",
       "      <td>20.0</td>\n",
       "      <td>22.0</td>\n",
       "    </tr>\n",
       "    <tr>\n",
       "      <th>3</th>\n",
       "      <td>2018-12-27</td>\n",
       "      <td>4</td>\n",
       "      <td>UA</td>\n",
       "      <td>United Air Lines Inc.</td>\n",
       "      <td>IAH</td>\n",
       "      <td>LAX</td>\n",
       "      <td>2018-12-25 10:06:00</td>\n",
       "      <td>12:45:00</td>\n",
       "      <td>6.0</td>\n",
       "      <td>0.0</td>\n",
       "      <td>...</td>\n",
       "      <td>1379.0</td>\n",
       "      <td>0.0</td>\n",
       "      <td>0.0</td>\n",
       "      <td>0.0</td>\n",
       "      <td>0.0</td>\n",
       "      <td>0.0</td>\n",
       "      <td>8.0</td>\n",
       "      <td>1</td>\n",
       "      <td>10.0</td>\n",
       "      <td>12.0</td>\n",
       "    </tr>\n",
       "    <tr>\n",
       "      <th>4</th>\n",
       "      <td>2018-12-27</td>\n",
       "      <td>4</td>\n",
       "      <td>UA</td>\n",
       "      <td>United Air Lines Inc.</td>\n",
       "      <td>SNA</td>\n",
       "      <td>IAH</td>\n",
       "      <td>2018-12-25 12:40:00</td>\n",
       "      <td>14:00:00</td>\n",
       "      <td>14.0</td>\n",
       "      <td>0.0</td>\n",
       "      <td>...</td>\n",
       "      <td>1346.0</td>\n",
       "      <td>14.0</td>\n",
       "      <td>0.0</td>\n",
       "      <td>1.0</td>\n",
       "      <td>0.0</td>\n",
       "      <td>0.0</td>\n",
       "      <td>29.0</td>\n",
       "      <td>1</td>\n",
       "      <td>12.0</td>\n",
       "      <td>16.0</td>\n",
       "    </tr>\n",
       "  </tbody>\n",
       "</table>\n",
       "<p>5 rows × 26 columns</p>\n",
       "</div>"
      ],
      "text/plain": [
       "        date  day_of_week airline           airline_name origin_airport  \\\n",
       "0 2018-12-27            4      UA  United Air Lines Inc.            IAH   \n",
       "1 2018-12-27            4      UA  United Air Lines Inc.            SAN   \n",
       "2 2018-12-27            4      UA  United Air Lines Inc.            LGA   \n",
       "3 2018-12-27            4      UA  United Air Lines Inc.            IAH   \n",
       "4 2018-12-27            4      UA  United Air Lines Inc.            SNA   \n",
       "\n",
       "  dest_airport       scheduled_dep  dep_time  dep_delay  dep_delay_indict  \\\n",
       "0          FLL 2018-12-25 13:40:00  21:16:00       76.0               1.0   \n",
       "1          IAH 2018-12-25 20:47:00  16:57:00      204.0               1.0   \n",
       "2          IAH 2018-12-25 20:00:00  07:37:00       -5.0               0.0   \n",
       "3          LAX 2018-12-25 10:06:00  12:45:00        6.0               0.0   \n",
       "4          IAH 2018-12-25 12:40:00  14:00:00       14.0               0.0   \n",
       "\n",
       "   ... distance carrier_delay  weather_delay  nas_delay  security_delay  \\\n",
       "0  ...    966.0           0.0           70.0        0.0             0.0   \n",
       "1  ...   1303.0           0.0            0.0        0.0             0.0   \n",
       "2  ...   1416.0           0.0            0.0        0.0             0.0   \n",
       "3  ...   1379.0           0.0            0.0        0.0             0.0   \n",
       "4  ...   1346.0          14.0            0.0        1.0             0.0   \n",
       "\n",
       "   late_aircraft_delay  total_delay  delay_level  scheduled_dep_hr  \\\n",
       "0                  0.0        146.0            2              13.0   \n",
       "1                188.0        392.0            2              20.0   \n",
       "2                  0.0          9.0            1              20.0   \n",
       "3                  0.0          8.0            1              10.0   \n",
       "4                  0.0         29.0            1              12.0   \n",
       "\n",
       "   scheduled_arr_hr  \n",
       "0              15.0  \n",
       "1              23.0  \n",
       "2              22.0  \n",
       "3              12.0  \n",
       "4              16.0  \n",
       "\n",
       "[5 rows x 26 columns]"
      ]
     },
     "execution_count": 6,
     "metadata": {},
     "output_type": "execute_result"
    }
   ],
   "source": [
    "dec_flights['total_delay'] = dec_flights['dep_delay'] + dec_flights['arr_delay']\n",
    "delay_type = lambda x:((0,1)[x > 5],2)[x > 45]\n",
    "dec_flights['delay_level'] = dec_flights['total_delay'].apply(delay_type)\n",
    "dec_flights.head()\n",
    "\n",
    "# dec_flights = dec_flights.loc[dec_flights.month == 12]"
   ]
  },
  {
   "cell_type": "code",
   "execution_count": 7,
   "metadata": {},
   "outputs": [
    {
     "data": {
      "image/png": "[encoded data removed]",
      "text/plain": [
       "<Figure size 1584x1080 with 1 Axes>"
      ]
     },
     "metadata": {
      "needs_background": "light"
     },
     "output_type": "display_data"
    },
    {
     "data": {
      "text/plain": [
       "''"
      ]
     },
     "execution_count": 7,
     "metadata": {},
     "output_type": "execute_result"
    },
    {
     "data": {
      "text/plain": [
       "<Figure size 432x288 with 0 Axes>"
      ]
     },
     "metadata": {},
     "output_type": "display_data"
    }
   ],
   "source": [
    "'''graph to depict delays for all airlines'''\n",
    "\n",
    "fig = plt.figure(1, figsize=(22,15))\n",
    "ax = sns.countplot(y=\"airline_name\", hue='delay_level', data=dec_flights, palette='YlGnBu')\n",
    "\n",
    "plt.xlabel('Flight count', fontsize=16, weight = 'bold', labelpad=10)\n",
    "label_x = ['0','10,000','20,000','30,000','40,000','50,000','60,000','70,000']\n",
    "ax.set_xticklabels(label_x, fontsize=14)\n",
    "# plt.setp(ax.get_xticklabels(), fontsize=12, weight = 'normal', rotation = 0);\n",
    "\n",
    "ax.yaxis.label.set_visible(False)\n",
    "plt.setp(ax.get_yticklabels(), fontsize=12, weight = 'bold', rotation = 0);\n",
    "\n",
    "L = plt.legend()\n",
    "L.get_texts()[0].set_text('on time (t < 5 min)')\n",
    "L.get_texts()[1].set_text('small delay (5 < t < 45 min)')\n",
    "L.get_texts()[2].set_text('large delay (t > 45 min)')\n",
    "\n",
    "fig = plt.gcf()\n",
    "plt.show()\n",
    "plt.draw()\n",
    "\n",
    "ax.spines['right'].set_visible(False)\n",
    "ax.spines['top'].set_visible(False)\n",
    "ax.spines['bottom'].set_visible(True)\n",
    "ax.spines['left'].set_visible(True)\n",
    "\n",
    "# fig.savefig('dec_flights_time_nospine.jpg')\n",
    ";"
   ]
  },
  {
   "cell_type": "markdown",
   "metadata": {},
   "source": [
    "#### Cheat way to generate pie chart\n",
    "Note to self: find out the correct way to do it"
   ]
  },
  {
   "cell_type": "code",
   "execution_count": 8,
   "metadata": {},
   "outputs": [],
   "source": [
    "delay_counts = dec_flights[dec_flights.delay_level == 0].groupby(['airline']).count()\n",
    "delay_counts['total_delay_counts'] = dec_flights.groupby(['airline'])['delay_level'].count()\n",
    "delay_counts['delay_level'] = (delay_counts['delay_level'] / delay_counts['total_delay_counts'] * 100).round(1)\n",
    "\n",
    "delay_counts1 = dec_flights[dec_flights.delay_level == 1].groupby(['airline']).count()\n",
    "delay_counts['delay_level_1'] = (delay_counts1['delay_level'] / delay_counts['total_delay_counts'] * 100).round(1)\n",
    "\n",
    "delay_counts2 = dec_flights[dec_flights.delay_level == 2].groupby(['airline']).count()\n",
    "delay_counts['delay_level_2'] = (delay_counts2['delay_level'] / delay_counts['total_delay_counts'] * 100).round(1)\n",
    "\n",
    "delay_counts = delay_counts[['delay_level', 'delay_level_1','delay_level_2']]\n",
    "delay_counts['total_delay_counts'] = dec_flights.groupby(['airline'])['delay_level'].count()"
   ]
  },
  {
   "cell_type": "code",
   "execution_count": 9,
   "metadata": {
    "scrolled": true
   },
   "outputs": [
    {
     "name": "stdout",
     "output_type": "stream",
     "text": [
      "492205\n",
      "0    340420\n",
      "1     87834\n",
      "2     63951\n",
      "Name: delay_level, dtype: int64\n"
     ]
    }
   ],
   "source": [
    "print(dec_flights['delay_level'].count())\n",
    "print(dec_flights['delay_level'].value_counts())"
   ]
  },
  {
   "cell_type": "code",
   "execution_count": 10,
   "metadata": {
    "scrolled": true
   },
   "outputs": [
    {
     "name": "stdout",
     "output_type": "stream",
     "text": [
      "69.16223931085625\n",
      "17.845003606220985\n",
      "12.992757082922765\n"
     ]
    }
   ],
   "source": [
    "print(340420/492205*100)\n",
    "print(87834/492205*100)\n",
    "print(63951/492205*100)"
   ]
  },
  {
   "cell_type": "code",
   "execution_count": 11,
   "metadata": {
    "scrolled": true
   },
   "outputs": [
    {
     "data": {
      "text/plain": [
       "''"
      ]
     },
     "execution_count": 11,
     "metadata": {},
     "output_type": "execute_result"
    },
    {
     "data": {
      "image/png": "[encoded data removed]",
      "text/plain": [
       "<Figure size 720x720 with 1 Axes>"
      ]
     },
     "metadata": {},
     "output_type": "display_data"
    }
   ],
   "source": [
    "fig = plt.figure(1, figsize=(10,10))\n",
    "\n",
    "x = (13.0, 17.8, 69.2)\n",
    "label = ['large delay', 'small delay', 'on time']\n",
    "color = ['#445469', '#37B3A8', '#B9DA98']\n",
    "explode = (0, 0.03, 0.03)\n",
    "plt.pie(x,  colors=color,shadow=True, startangle=90, explode=explode)\n",
    "\n",
    "fig.savefig('pie_chart_copy.jpg', transparent=True)\n",
    ";"
   ]
  },
  {
   "cell_type": "markdown",
   "metadata": {},
   "source": [
    "### More cleaning for modelling"
   ]
  },
  {
   "cell_type": "code",
   "execution_count": 4,
   "metadata": {},
   "outputs": [],
   "source": [
    "#all flights more than 5 mins delayed\n",
    "dec_flights['delay_level'].replace(2,1, inplace=True)"
   ]
  },
  {
   "cell_type": "code",
   "execution_count": 9,
   "metadata": {},
   "outputs": [
    {
     "data": {
      "text/plain": [
       "''"
      ]
     },
     "execution_count": 9,
     "metadata": {},
     "output_type": "execute_result"
    },
    {
     "data": {
      "image/png": "[encoded data removed]",
      "text/plain": [
       "<Figure size 432x288 with 1 Axes>"
      ]
     },
     "metadata": {
      "needs_background": "light"
     },
     "output_type": "display_data"
    }
   ],
   "source": [
    "#check for class imbalance\n",
    "sns.countplot(dec_flights['delay_level'])\n",
    "\n",
    "plt.ylabel('Data Count', fontsize=14, weight='bold')\n",
    "plt.xlabel('Delay_level', fontsize=14, weight='bold')\n",
    "\n",
    "plt.savefig(\"class_imbalance.jpg\")\n",
    ";"
   ]
  },
  {
   "cell_type": "code",
   "execution_count": 14,
   "metadata": {},
   "outputs": [
    {
     "data": {
      "text/html": [
       "<div>\n",
       "<style scoped>\n",
       "    .dataframe tbody tr th:only-of-type {\n",
       "        vertical-align: middle;\n",
       "    }\n",
       "\n",
       "    .dataframe tbody tr th {\n",
       "        vertical-align: top;\n",
       "    }\n",
       "\n",
       "    .dataframe thead th {\n",
       "        text-align: right;\n",
       "    }\n",
       "</style>\n",
       "<table border=\"1\" class=\"dataframe\">\n",
       "  <thead>\n",
       "    <tr style=\"text-align: right;\">\n",
       "      <th></th>\n",
       "      <th>date</th>\n",
       "      <th>day_of_week</th>\n",
       "      <th>airline</th>\n",
       "      <th>airline_name</th>\n",
       "      <th>origin_airport</th>\n",
       "      <th>dest_airport</th>\n",
       "      <th>scheduled_dep</th>\n",
       "      <th>dep_time</th>\n",
       "      <th>dep_delay</th>\n",
       "      <th>dep_delay_indict</th>\n",
       "      <th>...</th>\n",
       "      <th>distance</th>\n",
       "      <th>carrier_delay</th>\n",
       "      <th>weather_delay</th>\n",
       "      <th>nas_delay</th>\n",
       "      <th>security_delay</th>\n",
       "      <th>late_aircraft_delay</th>\n",
       "      <th>total_delay</th>\n",
       "      <th>delay_level</th>\n",
       "      <th>scheduled_dep_hr</th>\n",
       "      <th>scheduled_arr_hr</th>\n",
       "    </tr>\n",
       "  </thead>\n",
       "  <tbody>\n",
       "    <tr>\n",
       "      <th>0</th>\n",
       "      <td>2018-12-27</td>\n",
       "      <td>4</td>\n",
       "      <td>UA</td>\n",
       "      <td>United Air Lines Inc.</td>\n",
       "      <td>IAH</td>\n",
       "      <td>FLL</td>\n",
       "      <td>2018-12-25 13:40:00</td>\n",
       "      <td>21:16:00</td>\n",
       "      <td>76.0</td>\n",
       "      <td>1.0</td>\n",
       "      <td>...</td>\n",
       "      <td>966.0</td>\n",
       "      <td>0.0</td>\n",
       "      <td>70.0</td>\n",
       "      <td>0.0</td>\n",
       "      <td>0.0</td>\n",
       "      <td>0.0</td>\n",
       "      <td>146.0</td>\n",
       "      <td>1</td>\n",
       "      <td>13.0</td>\n",
       "      <td>15.0</td>\n",
       "    </tr>\n",
       "    <tr>\n",
       "      <th>1</th>\n",
       "      <td>2018-12-27</td>\n",
       "      <td>4</td>\n",
       "      <td>UA</td>\n",
       "      <td>United Air Lines Inc.</td>\n",
       "      <td>SAN</td>\n",
       "      <td>IAH</td>\n",
       "      <td>2018-12-25 20:47:00</td>\n",
       "      <td>16:57:00</td>\n",
       "      <td>204.0</td>\n",
       "      <td>1.0</td>\n",
       "      <td>...</td>\n",
       "      <td>1303.0</td>\n",
       "      <td>0.0</td>\n",
       "      <td>0.0</td>\n",
       "      <td>0.0</td>\n",
       "      <td>0.0</td>\n",
       "      <td>188.0</td>\n",
       "      <td>392.0</td>\n",
       "      <td>1</td>\n",
       "      <td>20.0</td>\n",
       "      <td>23.0</td>\n",
       "    </tr>\n",
       "    <tr>\n",
       "      <th>2</th>\n",
       "      <td>2018-12-27</td>\n",
       "      <td>4</td>\n",
       "      <td>UA</td>\n",
       "      <td>United Air Lines Inc.</td>\n",
       "      <td>LGA</td>\n",
       "      <td>IAH</td>\n",
       "      <td>2018-12-25 20:00:00</td>\n",
       "      <td>07:37:00</td>\n",
       "      <td>-5.0</td>\n",
       "      <td>0.0</td>\n",
       "      <td>...</td>\n",
       "      <td>1416.0</td>\n",
       "      <td>0.0</td>\n",
       "      <td>0.0</td>\n",
       "      <td>0.0</td>\n",
       "      <td>0.0</td>\n",
       "      <td>0.0</td>\n",
       "      <td>9.0</td>\n",
       "      <td>1</td>\n",
       "      <td>20.0</td>\n",
       "      <td>22.0</td>\n",
       "    </tr>\n",
       "    <tr>\n",
       "      <th>3</th>\n",
       "      <td>2018-12-27</td>\n",
       "      <td>4</td>\n",
       "      <td>UA</td>\n",
       "      <td>United Air Lines Inc.</td>\n",
       "      <td>IAH</td>\n",
       "      <td>LAX</td>\n",
       "      <td>2018-12-25 10:06:00</td>\n",
       "      <td>12:45:00</td>\n",
       "      <td>6.0</td>\n",
       "      <td>0.0</td>\n",
       "      <td>...</td>\n",
       "      <td>1379.0</td>\n",
       "      <td>0.0</td>\n",
       "      <td>0.0</td>\n",
       "      <td>0.0</td>\n",
       "      <td>0.0</td>\n",
       "      <td>0.0</td>\n",
       "      <td>8.0</td>\n",
       "      <td>1</td>\n",
       "      <td>10.0</td>\n",
       "      <td>12.0</td>\n",
       "    </tr>\n",
       "    <tr>\n",
       "      <th>4</th>\n",
       "      <td>2018-12-27</td>\n",
       "      <td>4</td>\n",
       "      <td>UA</td>\n",
       "      <td>United Air Lines Inc.</td>\n",
       "      <td>SNA</td>\n",
       "      <td>IAH</td>\n",
       "      <td>2018-12-25 12:40:00</td>\n",
       "      <td>14:00:00</td>\n",
       "      <td>14.0</td>\n",
       "      <td>0.0</td>\n",
       "      <td>...</td>\n",
       "      <td>1346.0</td>\n",
       "      <td>14.0</td>\n",
       "      <td>0.0</td>\n",
       "      <td>1.0</td>\n",
       "      <td>0.0</td>\n",
       "      <td>0.0</td>\n",
       "      <td>29.0</td>\n",
       "      <td>1</td>\n",
       "      <td>12.0</td>\n",
       "      <td>16.0</td>\n",
       "    </tr>\n",
       "  </tbody>\n",
       "</table>\n",
       "<p>5 rows × 26 columns</p>\n",
       "</div>"
      ],
      "text/plain": [
       "        date  day_of_week airline           airline_name origin_airport  \\\n",
       "0 2018-12-27            4      UA  United Air Lines Inc.            IAH   \n",
       "1 2018-12-27            4      UA  United Air Lines Inc.            SAN   \n",
       "2 2018-12-27            4      UA  United Air Lines Inc.            LGA   \n",
       "3 2018-12-27            4      UA  United Air Lines Inc.            IAH   \n",
       "4 2018-12-27            4      UA  United Air Lines Inc.            SNA   \n",
       "\n",
       "  dest_airport       scheduled_dep  dep_time  dep_delay  dep_delay_indict  \\\n",
       "0          FLL 2018-12-25 13:40:00  21:16:00       76.0               1.0   \n",
       "1          IAH 2018-12-25 20:47:00  16:57:00      204.0               1.0   \n",
       "2          IAH 2018-12-25 20:00:00  07:37:00       -5.0               0.0   \n",
       "3          LAX 2018-12-25 10:06:00  12:45:00        6.0               0.0   \n",
       "4          IAH 2018-12-25 12:40:00  14:00:00       14.0               0.0   \n",
       "\n",
       "   ... distance carrier_delay  weather_delay  nas_delay  security_delay  \\\n",
       "0  ...    966.0           0.0           70.0        0.0             0.0   \n",
       "1  ...   1303.0           0.0            0.0        0.0             0.0   \n",
       "2  ...   1416.0           0.0            0.0        0.0             0.0   \n",
       "3  ...   1379.0           0.0            0.0        0.0             0.0   \n",
       "4  ...   1346.0          14.0            0.0        1.0             0.0   \n",
       "\n",
       "   late_aircraft_delay  total_delay  delay_level  scheduled_dep_hr  \\\n",
       "0                  0.0        146.0            1              13.0   \n",
       "1                188.0        392.0            1              20.0   \n",
       "2                  0.0          9.0            1              20.0   \n",
       "3                  0.0          8.0            1              10.0   \n",
       "4                  0.0         29.0            1              12.0   \n",
       "\n",
       "   scheduled_arr_hr  \n",
       "0              15.0  \n",
       "1              23.0  \n",
       "2              22.0  \n",
       "3              12.0  \n",
       "4              16.0  \n",
       "\n",
       "[5 rows x 26 columns]"
      ]
     },
     "execution_count": 14,
     "metadata": {},
     "output_type": "execute_result"
    }
   ],
   "source": [
    "dec_flights.head()"
   ]
  },
  {
   "cell_type": "code",
   "execution_count": 15,
   "metadata": {},
   "outputs": [],
   "source": [
    "#undersampling of 0 needed, use a separate notebook to test if it changes results"
   ]
  },
  {
   "cell_type": "code",
   "execution_count": 16,
   "metadata": {},
   "outputs": [
    {
     "data": {
      "text/plain": [
       "0         1\n",
       "1         1\n",
       "2         0\n",
       "3         0\n",
       "4         1\n",
       "5         1\n",
       "6         1\n",
       "7         0\n",
       "8         1\n",
       "9         1\n",
       "10        0\n",
       "11        0\n",
       "12        0\n",
       "13        1\n",
       "14        0\n",
       "15        1\n",
       "16        1\n",
       "17        0\n",
       "18        0\n",
       "19        0\n",
       "20        0\n",
       "21        1\n",
       "22        0\n",
       "23        0\n",
       "24        0\n",
       "25        1\n",
       "26        0\n",
       "27        1\n",
       "28        0\n",
       "29        0\n",
       "         ..\n",
       "492175    1\n",
       "492176    1\n",
       "492177    0\n",
       "492178    0\n",
       "492179    1\n",
       "492180    0\n",
       "492181    0\n",
       "492182    0\n",
       "492183    0\n",
       "492184    0\n",
       "492185    0\n",
       "492186    0\n",
       "492187    0\n",
       "492188    1\n",
       "492189    0\n",
       "492190    0\n",
       "492191    0\n",
       "492192    0\n",
       "492193    0\n",
       "492194    1\n",
       "492195    0\n",
       "492196    0\n",
       "492197    0\n",
       "492198    0\n",
       "492199    0\n",
       "492200    0\n",
       "492201    1\n",
       "492202    0\n",
       "492203    0\n",
       "492204    0\n",
       "Name: security_delay, Length: 492205, dtype: int64"
      ]
     },
     "execution_count": 16,
     "metadata": {},
     "output_type": "execute_result"
    }
   ],
   "source": [
    "dec_flights.loc[dec_flights['carrier_delay']>1]=1\n",
    "dec_flights['carrier_delay'].astype(int)\n",
    "\n",
    "dec_flights.loc[dec_flights['weather_delay']>1]=1\n",
    "dec_flights['weather_delay'].astype(int)\n",
    "\n",
    "dec_flights.loc[dec_flights['late_aircraft_delay']>1]=1\n",
    "dec_flights['late_aircraft_delay'].astype(int)\n",
    "\n",
    "dec_flights.loc[dec_flights['nas_delay']>1]=1\n",
    "dec_flights['nas_delay'].astype(int)\n",
    "\n",
    "dec_flights.loc[dec_flights['security_delay']>1]=1\n",
    "dec_flights['security_delay'].astype(int)"
   ]
  },
  {
   "cell_type": "code",
   "execution_count": 17,
   "metadata": {},
   "outputs": [
    {
     "name": "stdout",
     "output_type": "stream",
     "text": [
      "<class 'pandas.core.frame.DataFrame'>\n",
      "Int64Index: 492205 entries, 0 to 492204\n",
      "Data columns (total 26 columns):\n",
      "date                   492205 non-null object\n",
      "day_of_week            492205 non-null int64\n",
      "airline                492205 non-null object\n",
      "airline_name           492205 non-null object\n",
      "origin_airport         492205 non-null object\n",
      "dest_airport           492205 non-null object\n",
      "scheduled_dep          485014 non-null object\n",
      "dep_time               492205 non-null object\n",
      "dep_delay              492205 non-null float64\n",
      "dep_delay_indict       492205 non-null float64\n",
      "scheduled_arr          485014 non-null object\n",
      "arr_time               492205 non-null object\n",
      "arr_delay              492205 non-null float64\n",
      "arr_delayed_indict     492205 non-null float64\n",
      "air_time               492205 non-null float64\n",
      "num_flights            492205 non-null float64\n",
      "distance               492205 non-null float64\n",
      "carrier_delay          492205 non-null float64\n",
      "weather_delay          492205 non-null float64\n",
      "nas_delay              492205 non-null float64\n",
      "security_delay         492205 non-null float64\n",
      "late_aircraft_delay    492205 non-null float64\n",
      "total_delay            492205 non-null float64\n",
      "delay_level            492205 non-null int64\n",
      "scheduled_dep_hr       485014 non-null float64\n",
      "scheduled_arr_hr       485014 non-null float64\n",
      "dtypes: float64(15), int64(2), object(9)\n",
      "memory usage: 121.4+ MB\n"
     ]
    }
   ],
   "source": [
    "dec_flights.info()"
   ]
  },
  {
   "cell_type": "markdown",
   "metadata": {},
   "source": [
    "#### One hot encoding"
   ]
  },
  {
   "cell_type": "code",
   "execution_count": 18,
   "metadata": {},
   "outputs": [
    {
     "data": {
      "text/plain": [
       "0    mon\n",
       "1    mon\n",
       "2    thu\n",
       "3    thu\n",
       "4    mon\n",
       "Name: day_of_week, dtype: object"
      ]
     },
     "execution_count": 18,
     "metadata": {},
     "output_type": "execute_result"
    }
   ],
   "source": [
    "#day_of_week\n",
    "dec_flights.replace({'day_of_week': {1:'mon', 2:'tue', 3:'wed', 4:'thu', 5:'fri', 6:'sat', 7:'sun'}}, inplace=True)\n",
    "dec_flights['day_of_week'].head()"
   ]
  },
  {
   "cell_type": "code",
   "execution_count": 19,
   "metadata": {},
   "outputs": [],
   "source": [
    "\n",
    "drop_airport = ['OAK', 'PBI', 'RSW', 'MYR', 'ANC', 'OGG', 'KOA', 'FAI', 'JNU','OTZ', 'SCC', 'BRW', 'OME', 'BET', 'ADK',\n",
    "                'CDV', 'ADQ', 'SJU', 'CLE', 'OMA', 'PIT', 'SAT', 'BDL', 'SNA', 'BUF', 'ALB', 'BZN', 'JAC', 'CMH', 'OKC', \n",
    "                'IND', 'RIC', 'EGE','SRQ','STT', 'HDN', 'MTJ', 'ICT', 'DSM', 'GRR', 'MDT', 'ROC', 'BTR', 'MSN', 'AGS', \n",
    "                'JAX', 'CHS', 'SDF', 'ABQ', 'PVD','TUL', 'ORF', 'BTV', 'MEM', 'TUS', 'FSD', 'CVG', 'LIT', 'MKE','COS', \n",
    "                'BHM', 'DAY', 'ELP', 'STX', 'PNS', 'XNA', 'PWM', 'SYR', 'GSO', 'ILM', 'DAB', 'TTN', 'FAR', 'BMI', 'TYS', \n",
    "                'CID', 'PHF','HPN', 'SAV', 'ASE', 'AVL', 'CHO', 'PIA', 'MLI', 'SGF', 'SBN', 'FWA', 'GRB', 'LNK', 'LEX', \n",
    "                'ATW', 'FNT', 'CAK', 'RST', 'CHA', 'ABE', 'EVV', 'CAE', 'VPS', 'SHV', 'LFT', 'MOB', 'CRW', 'MGM','MLU', \n",
    "                'GSP', 'MHT', 'ECP', 'MLB', 'HSV', 'JAN', 'TLH', 'GPT','TRI', 'EYW', 'AVP', 'GNV', 'ROA', 'FAY', 'OAJ', \n",
    "                'SCE', 'ELM', 'DHN', 'AEX', 'VLD', 'BQK', 'CSG', 'EWN', 'GRK', 'GTR', 'ABY','FSM', 'LBB', 'LGB', \n",
    "                'HRL', 'GEG', 'EUG', 'ISP', 'YAK', 'MAF','AMA', 'RNO', 'BOI', 'BIL', 'LIH', 'GUC', 'PSP', 'FAT', \n",
    "                'ONT', 'MOT', 'SBA', 'IDA', 'BIS', 'MSO', 'BUR', 'MFR', 'BFL', 'RDM','RAP', 'COD', 'PSC', 'CPR',\n",
    "                'GCC', 'LAR', 'DRO', 'ISN', 'HLN','GTF', 'HYS', 'RKS', 'SUN', 'FCA', 'GJT', 'MMH', 'JMS', 'SGU',\n",
    "                'DVL', 'MFE', 'SPI', 'SAF', 'CRP', 'BRO', 'TYR', 'LAW', 'PIB','BPT', 'MEI', 'LRD', 'GGG', 'CLL',\n",
    "                'LCH', 'MHK', 'SPS', 'SJT','ACT', 'GCK', 'TXK', 'JLN', 'ROW', 'CMI', 'COU', 'GRI', 'ABI','ESC',\n",
    "                'PLN', 'CIU', 'MBS', 'LAN', 'TVC', 'APN', 'AZO', 'BGM','ITH', 'MQT', 'BGR', 'BQN', 'ORH', 'SWF', \n",
    "                'PBG', 'IAG', 'ACY','LBE', 'INL', 'GUM', 'ITO', 'BLI', 'PPG', 'HOB', 'RHI', 'HIB','PSE', 'KTN', \n",
    "                'SIT', 'PSG', 'WRG', 'MRY', 'SBP', 'ABR', 'BJI','DLH', 'IMT', 'BRD', 'GFK', 'LSE', 'EAU', 'PAH', \n",
    "                'MKG', 'CMX','CWA', 'ERI', 'SUX', 'ALO', 'DBQ', 'TOL', 'YUM', 'FLG', 'ACV','SMX', 'RDD', 'OTH',\n",
    "                'TWF', 'EKO', 'BTM', 'PIH', 'LWS', 'CDC','UST','DAL','BNA','AUS','STL','SJC','HOU','OAK','MSY','RDU','SMF']"
   ]
  },
  {
   "cell_type": "code",
   "execution_count": 20,
   "metadata": {},
   "outputs": [],
   "source": [
    "dec_flights = pd.concat([dec_flights, pd.get_dummies(dec_flights['airline'],drop_first=True,prefix=\"airline\")],axis=1)"
   ]
  },
  {
   "cell_type": "code",
   "execution_count": 21,
   "metadata": {},
   "outputs": [],
   "source": [
    "dec_flights = pd.concat([dec_flights,pd.get_dummies(dec_flights['day_of_week'],drop_first=True,prefix=\"dow\")],axis=1)"
   ]
  },
  {
   "cell_type": "code",
   "execution_count": 22,
   "metadata": {},
   "outputs": [],
   "source": [
    "dec_flights['origin_airport'].replace(drop_airport, 'OTHERS', inplace=True)"
   ]
  },
  {
   "cell_type": "code",
   "execution_count": 23,
   "metadata": {},
   "outputs": [],
   "source": [
    "dec_flights = pd.concat([dec_flights, pd.get_dummies(dec_flights['origin_airport'],drop_first=True, prefix='origin')],axis=1)"
   ]
  },
  {
   "cell_type": "code",
   "execution_count": 24,
   "metadata": {},
   "outputs": [],
   "source": [
    "dec_flights = pd.concat([dec_flights,pd.get_dummies(dec_flights['scheduled_dep_hr'],drop_first=True,prefix=\"depart\")],axis=1)"
   ]
  },
  {
   "cell_type": "code",
   "execution_count": 25,
   "metadata": {},
   "outputs": [],
   "source": [
    "dec_flights['dest_airport'].replace(drop_airport, 'OTHERS', inplace=True)"
   ]
  },
  {
   "cell_type": "code",
   "execution_count": 26,
   "metadata": {},
   "outputs": [],
   "source": [
    "dec_flights = pd.concat([dec_flights, pd.get_dummies(dec_flights['dest_airport'],drop_first=True, prefix='dest')],axis=1)"
   ]
  },
  {
   "cell_type": "code",
   "execution_count": 27,
   "metadata": {},
   "outputs": [
    {
     "data": {
      "text/plain": [
       "Index(['date', 'day_of_week', 'airline', 'airline_name', 'origin_airport',\n",
       "       'dest_airport', 'scheduled_dep', 'dep_time', 'dep_delay',\n",
       "       'dep_delay_indict',\n",
       "       ...\n",
       "       'dest_SFO', 'dest_SHD', 'dest_SLC', 'dest_SLN', 'dest_SPN', 'dest_STS',\n",
       "       'dest_SWO', 'dest_TPA', 'dest_UIN', 'dest_VEL'],\n",
       "      dtype='object', length=173)"
      ]
     },
     "execution_count": 27,
     "metadata": {},
     "output_type": "execute_result"
    }
   ],
   "source": [
    "dec_flights.columns"
   ]
  },
  {
   "cell_type": "code",
   "execution_count": 28,
   "metadata": {},
   "outputs": [],
   "source": [
    "dec_flights.drop(columns=['date','day_of_week','airline','airline_name','origin_airport','dest_airport','scheduled_dep','dep_time','dep_delay','scheduled_arr',\n",
    "                         'arr_time', 'arr_delay','total_delay','scheduled_dep_hr'], inplace=True)"
   ]
  },
  {
   "cell_type": "code",
   "execution_count": 29,
   "metadata": {},
   "outputs": [
    {
     "data": {
      "text/plain": [
       "Index(['dep_delay_indict', 'arr_delayed_indict', 'air_time', 'num_flights',\n",
       "       'distance', 'carrier_delay', 'weather_delay', 'nas_delay',\n",
       "       'security_delay', 'late_aircraft_delay',\n",
       "       ...\n",
       "       'dest_SFO', 'dest_SHD', 'dest_SLC', 'dest_SLN', 'dest_SPN', 'dest_STS',\n",
       "       'dest_SWO', 'dest_TPA', 'dest_UIN', 'dest_VEL'],\n",
       "      dtype='object', length=159)"
      ]
     },
     "execution_count": 29,
     "metadata": {},
     "output_type": "execute_result"
    }
   ],
   "source": [
    "dec_flights.columns"
   ]
  },
  {
   "cell_type": "code",
   "execution_count": 30,
   "metadata": {},
   "outputs": [],
   "source": [
    "with open('dec_flights_model_copy.pickle', 'wb') as to_write:\n",
    "    pickle.dump(dec_flights, to_write)\n",
    "    \n",
    "# with open('dec_flights.pickle','rb') as read_file:\n",
    "#     dec_flights = pickle.load(read_file)"
   ]
  },
  {
   "cell_type": "code",
   "execution_count": null,
   "metadata": {},
   "outputs": [],
   "source": []
  }
 ],
 "metadata": {
  "kernelspec": {
   "display_name": "Python 3",
   "language": "python",
   "name": "python3"
  },
  "language_info": {
   "codemirror_mode": {
    "name": "ipython",
    "version": 3
   },
   "file_extension": ".py",
   "mimetype": "text/x-python",
   "name": "python",
   "nbconvert_exporter": "python",
   "pygments_lexer": "ipython3",
   "version": "3.7.3"
  }
 },
 "nbformat": 4,
 "nbformat_minor": 2
}
